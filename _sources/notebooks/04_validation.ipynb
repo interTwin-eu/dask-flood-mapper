{
 "cells": [
  {
   "cell_type": "markdown",
   "metadata": {},
   "source": [
    "# Validation\n",
    "\n",
    "In order to validate our results, this notebook compare our results with the flood mapping from the ['Global Flood Monitoring'(GFM)](https://services.eodc.eu/browser/#/v1/collections/GFM) for the same area and time range."
   ]
  },
  {
   "cell_type": "code",
   "execution_count": null,
   "metadata": {},
   "outputs": [],
   "source": [
    "# define time range and area\n",
    "time_range = \"2023-10-11/2023-10-25\"\n",
    "bounding_box = [12.3, 54.3, 13.1, 54.6]"
   ]
  },
  {
   "cell_type": "markdown",
   "metadata": {},
   "source": [
    "## GFM"
   ]
  },
  {
   "cell_type": "code",
   "execution_count": null,
   "metadata": {},
   "outputs": [],
   "source": [
    "import hvplot.xarray\n",
    "import pystac_client\n",
    "from odc import stac as odc_stac\n",
    "from dask.distributed import Client, wait\n",
    "\n",
    "# Connect to STAC catalog\n",
    "eodc_catalog = pystac_client.Client.open(\"https://stac.eodc.eu/api/v1/\")\n",
    "\n",
    "# Search for available images\n",
    "\n",
    "search = eodc_catalog.search(collections=\"GFM\", bbox=bounding_box, datetime=time_range)\n",
    "items_GFM = search.item_collection()\n",
    "\n",
    "print(f\"Found {len(items_GFM)} items\") "
   ]
  },
  {
   "cell_type": "markdown",
   "metadata": {},
   "source": [
    "### Load the data"
   ]
  },
  {
   "cell_type": "code",
   "execution_count": null,
   "metadata": {},
   "outputs": [],
   "source": [
    "import pyproj\n",
    "\n",
    "crs = \"EPSG:4326\"  # Coordinate Reference System - World Geodetic System 1984 (WGS84) \n",
    "resolution = 0.00018  # 20 meter in degree\n",
    "\n",
    "GFM_dc= odc_stac.load(\n",
    "    items_GFM, \n",
    "    bbox=bounding_box,   \n",
    "    crs=crs,  \n",
    "    bands=[\"tuw_likelihood\",\"tuw_flood_extent\"],   \n",
    "    resolution=resolution,   \n",
    "    dtype='uint8',   \n",
    "    chunks={\"x\": 1000, \"y\": 1000, \"time\": -1},  \n",
    ")\n",
    "\n"
   ]
  },
  {
   "cell_type": "markdown",
   "metadata": {},
   "source": [
    "### Pre-processing "
   ]
  },
  {
   "cell_type": "code",
   "execution_count": null,
   "metadata": {},
   "outputs": [],
   "source": [
    "# convert values 255 to NANs\n",
    "GFM_dc[\"tuw_flood_extent\"] = GFM_dc.tuw_flood_extent.where(GFM_dc.tuw_flood_extent!=255).compute()\n",
    "\n",
    "# select the band 'tuw_flood_extent'\n",
    "GFM_dc_flood = GFM_dc[\"tuw_flood_extent\"]"
   ]
  },
  {
   "cell_type": "markdown",
   "metadata": {},
   "source": [
    "## dask-flood-mapper"
   ]
  },
  {
   "cell_type": "code",
   "execution_count": null,
   "metadata": {},
   "outputs": [],
   "source": [
    "from dask_flood_mapper import flood\n",
    "from dask.distributed import Client\n",
    "from bokeh.models import FixedTicker\n",
    "import hvplot.xarray\n",
    "from importlib.resources import files\n",
    "import xarray as xr\n",
    "\n",
    "#calculate flood decision\n",
    "fd = flood.decision(bbox=bounding_box, datetime=time_range).compute()\n",
    "\n",
    "\n",
    "\n",
    "data_text = files(\"dask_flood_mapper.data\").joinpath(\"wcover.tif\")\n",
    "wcover = xr.open_dataarray(data_text)\n",
    "\n",
    "\n",
    "\n"
   ]
  },
  {
   "cell_type": "markdown",
   "metadata": {},
   "source": [
    "### Preprocessing\n",
    "\n",
    "Make both plots compatible to be plot together."
   ]
  },
  {
   "cell_type": "code",
   "execution_count": null,
   "metadata": {},
   "outputs": [],
   "source": [
    "fd = fd.where(wcover != 80)\n",
    "fd_renamed = fd.rename({'x':'longitude', 'y':'latitude'})\n",
    "fd_renamed_drop_band =fd_renamed.drop_vars('band')"
   ]
  },
  {
   "cell_type": "markdown",
   "metadata": {},
   "source": [
    "## Validation plot"
   ]
  },
  {
   "cell_type": "code",
   "execution_count": null,
   "metadata": {},
   "outputs": [],
   "source": [
    "import numpy as np\n",
    "import holoviews as hv\n",
    "import hvplot.xarray\n",
    "\n",
    "hv.extension('bokeh')\n",
    "\n",
    "\n",
    "common_times = np.intersect1d(GFM_dc_flood.time.values, fd.time.values)\n",
    "\n",
    "\n",
    "def synced_plot(t):\n",
    "    \n",
    "    plot1 = GFM_dc_flood.sel(time=t).hvplot.image(x='longitude', y='latitude',title='GFM flood map', cmap=[\"rgba(0, 0, 1, 0.1)\", \"darkblue\"])\n",
    "    plot2 = fd_renamed_drop_band.sel(time=t).hvplot.image(x='longitude', y='latitude',title='dask-flood-mapper', cmap=[\"rgba(0, 0, 1, 0.1)\", \"darkblue\"])\n",
    "\n",
    "   \n",
    "    return (plot1 + plot2).cols(2)\n",
    "\n",
    "\n",
    "combined_plot = hv.DynamicMap(synced_plot, kdims='time').redim.values(time=common_times)\n",
    "\n",
    "combined_plot"
   ]
  }
 ],
 "metadata": {
  "kernelspec": {
   "display_name": ".venv",
   "language": "python",
   "name": "python3"
  },
  "language_info": {
   "codemirror_mode": {
    "name": "ipython",
    "version": 3
   },
   "file_extension": ".py",
   "mimetype": "text/x-python",
   "name": "python",
   "nbconvert_exporter": "python",
   "pygments_lexer": "ipython3",
   "version": "3.10.12"
  }
 },
 "nbformat": 4,
 "nbformat_minor": 2
}
