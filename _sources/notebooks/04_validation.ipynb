{
 "cells": [
  {
   "cell_type": "markdown",
   "metadata": {},
   "source": [
    "# Validation\n",
    "\n",
    "In order to validate our results, this notebook compare our results with the flood mapping from the ['Global Flood Monitoring'(GFM)](https://services.eodc.eu/browser/#/v1/collections/GFM) for the same area and time range."
   ]
  },
  {
   "cell_type": "code",
   "execution_count": null,
   "metadata": {},
   "outputs": [],
   "source": [
    "from importlib.resources import files\n",
    "\n",
    "import holoviews as hv\n",
    "import hvplot.xarray  # noqa\n",
    "import numpy as np\n",
    "import pystac_client\n",
    "import xarray as xr\n",
    "from dask.distributed import Client\n",
    "from dask_flood_mapper import flood\n",
    "from odc import stac as odc_stac"
   ]
  },
  {
   "cell_type": "code",
   "execution_count": null,
   "metadata": {},
   "outputs": [],
   "source": [
    "# define time range and area\n",
    "time_range = \"2023-10-11/2023-10-25\"\n",
    "bounding_box = [12.3, 54.3, 13.1, 54.6]"
   ]
  },
  {
   "cell_type": "code",
   "execution_count": null,
   "metadata": {},
   "outputs": [],
   "source": [
    "client = Client(processes=False, threads_per_worker=2, n_workers=1, memory_limit=\"12GB\")"
   ]
  },
  {
   "cell_type": "markdown",
   "metadata": {},
   "source": [
    "## GFM"
   ]
  },
  {
   "cell_type": "code",
   "execution_count": null,
   "metadata": {},
   "outputs": [],
   "source": [
    "# Connect to STAC catalog\n",
    "eodc_catalog = pystac_client.Client.open(\"https://stac.eodc.eu/api/v1/\")\n",
    "\n",
    "# Search for available images\n",
    "\n",
    "search = eodc_catalog.search(collections=\"GFM\", bbox=bounding_box, datetime=time_range)\n",
    "items_GFM = search.item_collection()\n",
    "\n",
    "print(f\"Found {len(items_GFM)} items\")"
   ]
  },
  {
   "cell_type": "markdown",
   "metadata": {},
   "source": [
    "### Load the data"
   ]
  },
  {
   "cell_type": "code",
   "execution_count": null,
   "metadata": {},
   "outputs": [],
   "source": [
    "crs = \"EPSG:4326\"  # Coordinate Reference System - World Geodetic System 1984 (WGS84)\n",
    "resolution = 0.00018  # 20 meter in degree\n",
    "\n",
    "GFM_fd = odc_stac.load(\n",
    "    items_GFM,\n",
    "    bbox=bounding_box,\n",
    "    crs=crs,\n",
    "    bands=[\"tuw_likelihood\", \"tuw_flood_extent\"],\n",
    "    resolution=resolution,\n",
    "    dtype=\"uint8\",\n",
    "    chunks={\"x\": 1000, \"y\": 1000, \"time\": -1},\n",
    ")"
   ]
  },
  {
   "cell_type": "markdown",
   "metadata": {},
   "source": [
    "### Pre-processing "
   ]
  },
  {
   "cell_type": "code",
   "execution_count": null,
   "metadata": {},
   "outputs": [],
   "source": [
    "# convert values 255 to NANs\n",
    "GFM_fd[\"tuw_flood_extent\"] = GFM_fd.tuw_flood_extent.where(\n",
    "    GFM_fd.tuw_flood_extent != 255\n",
    ").compute()\n",
    "\n",
    "# select the band 'tuw_flood_extent'\n",
    "GFM_fd = GFM_fd[\"tuw_flood_extent\"]\n",
    "GFM_fd"
   ]
  },
  {
   "cell_type": "markdown",
   "metadata": {},
   "source": [
    "## dask-flood-mapper"
   ]
  },
  {
   "cell_type": "code",
   "execution_count": null,
   "metadata": {},
   "outputs": [],
   "source": [
    "# calculate flood decision\n",
    "fd = flood.decision(bbox=bounding_box, datetime=time_range).compute()\n",
    "fd"
   ]
  },
  {
   "cell_type": "markdown",
   "metadata": {},
   "source": [
    "### Preprocessing\n",
    "\n",
    "Make both plots compatible to be plot together."
   ]
  },
  {
   "cell_type": "code",
   "execution_count": null,
   "metadata": {},
   "outputs": [],
   "source": [
    "data_text = files(\"dask_flood_mapper.data\").joinpath(\"wcover.tif\")\n",
    "wcover = xr.open_dataarray(data_text, band_as_variable=True).rename(\n",
    "    {\"y\": \"latitude\", \"x\": \"longitude\"}\n",
    ")\n",
    "wcover"
   ]
  },
  {
   "cell_type": "code",
   "execution_count": null,
   "metadata": {},
   "outputs": [],
   "source": [
    "fd = fd.where(wcover != 80)\n",
    "fd"
   ]
  },
  {
   "cell_type": "markdown",
   "metadata": {},
   "source": [
    "## Validation plot"
   ]
  },
  {
   "cell_type": "code",
   "execution_count": null,
   "metadata": {},
   "outputs": [],
   "source": [
    "common_times = np.intersect1d(GFM_fd.time.values, fd.time.values)\n",
    "\n",
    "\n",
    "def synced_plot(t):\n",
    "    plot1 = GFM_fd.sel(time=t).hvplot.image(\n",
    "        x=\"longitude\",\n",
    "        y=\"latitude\",\n",
    "        title=\"GFM flood map\",\n",
    "        cmap=[\"rgba(0, 0, 1, 0.1)\", \"darkblue\"],\n",
    "    )\n",
    "    plot2 = fd.sel(time=t).hvplot.image(\n",
    "        x=\"longitude\",\n",
    "        y=\"latitude\",\n",
    "        title=\"dask-flood-mapper\",\n",
    "        cmap=[\"rgba(0, 0, 1, 0.1)\", \"darkblue\"],\n",
    "    )\n",
    "\n",
    "    return (plot1 + plot2).cols(2)\n",
    "\n",
    "\n",
    "combined_plot = hv.DynamicMap(synced_plot, kdims=\"time\").redim.values(time=common_times)\n",
    "\n",
    "combined_plot"
   ]
  }
 ],
 "metadata": {
  "kernelspec": {
   "display_name": "dask-flood-mapper-Ze9Y7wKI",
   "language": "python",
   "name": "python3"
  },
  "language_info": {
   "codemirror_mode": {
    "name": "ipython",
    "version": 3
   },
   "file_extension": ".py",
   "mimetype": "text/x-python",
   "name": "python",
   "nbconvert_exporter": "python",
   "pygments_lexer": "ipython3",
   "version": "3.10.12"
  }
 },
 "nbformat": 4,
 "nbformat_minor": 2
}
