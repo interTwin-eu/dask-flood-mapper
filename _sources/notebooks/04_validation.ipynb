{
 "cells": [
  {
   "cell_type": "markdown",
   "metadata": {},
   "source": [
    "# Validation\n",
    "\n",
    "In order to validate our results, this notebook compare our results with the flood mapping from the ['Global Flood Monitoring'(GFM)](https://services.eodc.eu/browser/#/v1/collections/GFM) for the same area and time range."
   ]
  },
  {
   "cell_type": "code",
   "execution_count": null,
   "metadata": {},
   "outputs": [],
   "source": [
    "from importlib.resources import files\n",
    "\n",
    "import holoviews as hv\n",
    "import hvplot.xarray  # noqa\n",
    "import numpy as np\n",
    "import pystac_client\n",
    "import rioxarray  # noqa\n",
    "import xarray as xr\n",
    "from dask.distributed import Client\n",
    "from dask_flood_mapper import flood\n",
    "from odc import stac as odc_stac"
   ]
  },
  {
   "cell_type": "code",
   "execution_count": null,
   "metadata": {},
   "outputs": [],
   "source": [
    "# define time range and area\n",
    "time_range = \"2023-10-11/2023-10-25\"\n",
    "bounding_box = [12.3, 54.3, 13.1, 54.6]"
   ]
  },
  {
   "cell_type": "code",
   "execution_count": null,
   "metadata": {},
   "outputs": [],
   "source": [
    "client = Client(processes=False, threads_per_worker=2, n_workers=1, memory_limit=\"12GB\")"
   ]
  },
  {
   "cell_type": "markdown",
   "metadata": {},
   "source": [
    "As usual we perform Dask based flood mapping."
   ]
  },
  {
   "cell_type": "code",
   "execution_count": null,
   "metadata": {},
   "outputs": [],
   "source": [
    "fd = flood.decision(bbox=bounding_box, datetime=time_range).compute()\n",
    "fd"
   ]
  },
  {
   "cell_type": "markdown",
   "metadata": {},
   "source": [
    "We mask the water bodies."
   ]
  },
  {
   "cell_type": "code",
   "execution_count": null,
   "metadata": {},
   "outputs": [],
   "source": [
    "data_text = files(\"dask_flood_mapper.data\").joinpath(\"wcover.nc\")\n",
    "wcover = xr.open_dataarray(data_text, decode_coords=\"all\")\n",
    "fd = fd.where(wcover != 80)"
   ]
  },
  {
   "cell_type": "markdown",
   "metadata": {},
   "source": [
    "## Reference Flood Map (GFM)\n",
    "\n",
    "As a reference of the validation we use the TUW component of the GFM service. This data can be accessed through STAC from EODC."
   ]
  },
  {
   "cell_type": "code",
   "execution_count": null,
   "metadata": {},
   "outputs": [],
   "source": [
    "# Connect to STAC catalog\n",
    "eodc_catalog = pystac_client.Client.open(\"https://stac.eodc.eu/api/v1/\")\n",
    "\n",
    "# Search for available images\n",
    "search = eodc_catalog.search(collections=\"GFM\", bbox=bounding_box, datetime=time_range)\n",
    "items_GFM = search.item_collection()\n",
    "\n",
    "crs = \"EPSG:4326\"\n",
    "\n",
    "GFM_fd = odc_stac.load(\n",
    "    items_GFM,\n",
    "    bbox=bounding_box,\n",
    "    crs=crs,\n",
    "    bands=[\"tuw_flood_extent\"],\n",
    "    resolution=fd.rio.resolution()[0],\n",
    ").tuw_flood_extent\n",
    "\n",
    "# for accuracy overwrite the coordinates\n",
    "GFM_fd = GFM_fd.assign_coords(\n",
    "    {\n",
    "        \"longitude\": fd.longitude.data,\n",
    "        \"latitude\": fd.latitude.data,\n",
    "    }\n",
    ")\n",
    "\n",
    "# no data\n",
    "GFM_fd = GFM_fd.where(GFM_fd != GFM_fd.rio.nodata)\n",
    "\n",
    "# mask water bodies\n",
    "GFM_fd = GFM_fd.where(wcover != 80)"
   ]
  },
  {
   "cell_type": "markdown",
   "metadata": {},
   "source": [
    "## Validation plot\n",
    "\n",
    "Finally we can compare the results of the Dask flood map implementation with the TU Wien component of GFM."
   ]
  },
  {
   "cell_type": "code",
   "execution_count": null,
   "metadata": {},
   "outputs": [],
   "source": [
    "common_times = np.intersect1d(GFM_fd.time.values, fd.time.values)\n",
    "\n",
    "\n",
    "def synced_plot(t):\n",
    "    plot1 = GFM_fd.sel(time=t).hvplot.image(\n",
    "        x=\"longitude\",\n",
    "        y=\"latitude\",\n",
    "        title=\"GFM flood map\",\n",
    "        cmap=[\"rgba(0, 0, 1, 0.1)\", \"darkblue\"],\n",
    "    )\n",
    "    plot2 = fd.sel(time=t).hvplot.image(\n",
    "        x=\"longitude\",\n",
    "        y=\"latitude\",\n",
    "        title=\"dask-flood-mapper\",\n",
    "        cmap=[\"rgba(0, 0, 1, 0.1)\", \"darkblue\"],\n",
    "    )\n",
    "\n",
    "    return (plot1 + plot2).cols(2)\n",
    "\n",
    "\n",
    "hv.DynamicMap(synced_plot, kdims=\"time\").redim.values(time=common_times)"
   ]
  }
 ],
 "metadata": {
  "kernelspec": {
   "display_name": "dask-flood-mapper-z0eq0g_n",
   "language": "python",
   "name": "python3"
  },
  "language_info": {
   "codemirror_mode": {
    "name": "ipython",
    "version": 3
   },
   "file_extension": ".py",
   "mimetype": "text/x-python",
   "name": "python",
   "nbconvert_exporter": "python",
   "pygments_lexer": "ipython3",
   "version": "3.10.12"
  }
 },
 "nbformat": 4,
 "nbformat_minor": 2
}
