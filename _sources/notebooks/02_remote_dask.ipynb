{
 "cells": [
  {
   "cell_type": "markdown",
   "metadata": {},
   "source": [
    "# Remote Flood Mapping\n",
    "\n",
    "Besides processing of a flood's extent on your own machine one can also offload the processing graph to the EODC Dask Gateway."
   ]
  }
 ],
 "metadata": {
  "language_info": {
   "name": "python"
  }
 },
 "nbformat": 4,
 "nbformat_minor": 2
}
