{
 "cells": [
  {
   "cell_type": "markdown",
   "id": "0",
   "metadata": {},
   "source": [
    "# Calculate Harmonic Parameters\n",
    "\n",
    "Besides using static harmonic parameters to derive the non-flood likelihood $P(\\sigma^0|nonflood)$, we can also dynamically calculate the parameters form past backscattering information. In this notebook we show how we can extract these coefficients that describe seasonal patterns in Sentinel 1 radar backscatter variability."
   ]
  },
  {
   "cell_type": "code",
   "execution_count": null,
   "id": "1",
   "metadata": {},
   "outputs": [],
   "source": [
    "import hvplot.xarray  # noqa\n",
    "import numpy as np\n",
    "import xarray as xr\n",
    "from dask.distributed import Client\n",
    "from dask_flood_mapper import flood\n",
    "from dask_flood_mapper.catalog import (format_datetime_for_xarray_selection,\n",
    "                                       initialize_catalog, initialize_search)\n",
    "from dask_flood_mapper.harmonic_params import (\n",
    "    create_harmonic_parameters, process_harmonic_parameters_datacube)\n",
    "from dask_flood_mapper.processing import prepare_dc, process_sig0_dc"
   ]
  },
  {
   "cell_type": "code",
   "execution_count": null,
   "id": "2",
   "metadata": {},
   "outputs": [],
   "source": [
    "client = Client(processes=False, threads_per_worker=2, n_workers=1, memory_limit=\"12GB\")\n",
    "client"
   ]
  },
  {
   "cell_type": "markdown",
   "id": "3",
   "metadata": {},
   "source": [
    "As an example we will select only a small region of interest contained in the Zingst case study. "
   ]
  },
  {
   "cell_type": "code",
   "execution_count": null,
   "id": "4",
   "metadata": {},
   "outputs": [],
   "source": [
    "time_range = \"2022-10-11T05:25:26\"\n",
    "minlon, maxlon = 12.999, 13\n",
    "minlat, maxlat = 53.999, 54\n",
    "bounding_box = [minlon, minlat, maxlon, maxlat]"
   ]
  },
  {
   "cell_type": "markdown",
   "id": "5",
   "metadata": {},
   "source": [
    "We will now load the sigma nought datacube from EODC. In order to fit the harmonic functions to the timeseries, the temporal range is extended to include the three years before the provided time range. This is done by using the `dynamic` parameter of `initialize_search`."
   ]
  },
  {
   "cell_type": "code",
   "execution_count": null,
   "id": "6",
   "metadata": {},
   "outputs": [],
   "source": [
    "eodc_catalog = initialize_catalog()\n",
    "search = initialize_search(eodc_catalog, bounding_box, time_range, dynamic=True)\n",
    "items_sig0 = search.item_collection()\n",
    "sig0_dc = prepare_dc(items_sig0, bounding_box, bands=\"VV\")\n",
    "sig0_dc, orbit_sig0 = process_sig0_dc(sig0_dc, items_sig0, bands=\"VV\")\n",
    "sig0_dc"
   ]
  },
  {
   "cell_type": "markdown",
   "id": "7",
   "metadata": {},
   "source": [
    "## Calculate Harmonic Parameters\n",
    "\n",
    "This function fits sine and cosine functions known as harmonic oscillators to each pixel of the Sentinel 1 $\\sigma^0$ datacube. These seasonally varying curves can then be extracted from time series. What is left is the noise or transient events, for example flood events, superimposed on the seasonal trend."
   ]
  },
  {
   "cell_type": "code",
   "execution_count": null,
   "id": "8",
   "metadata": {},
   "outputs": [],
   "source": [
    "# Function to reformat time range for selecting from the Xarray\n",
    "datetime_xr = format_datetime_for_xarray_selection(search, time_range)\n",
    "hpar_list = create_harmonic_parameters(sig0_dc)\n",
    "__, hpar_dc, __ = process_harmonic_parameters_datacube(sig0_dc, datetime_xr, hpar_list)\n",
    "hpar_dc"
   ]
  },
  {
   "cell_type": "code",
   "execution_count": null,
   "id": "9",
   "metadata": {},
   "outputs": [],
   "source": [
    "t = sig0_dc.time.dt.dayofyear\n",
    "n = 365\n",
    "y = (\n",
    "    hpar_dc.M0\n",
    "    + hpar_dc.C1 * np.cos(2 * np.pi * t / n)\n",
    "    + hpar_dc.S1 * np.sin(2 * np.pi * t / n)\n",
    "    + hpar_dc.C2 * np.cos(2 * np.pi * t / n)\n",
    "    + hpar_dc.S2 * np.sin(2 * np.pi * t / n)\n",
    "    + hpar_dc.C3 * np.cos(2 * np.pi * t / n)\n",
    "    + hpar_dc.S3 * np.sin(2 * np.pi * t / n)\n",
    ")"
   ]
  },
  {
   "cell_type": "markdown",
   "id": "10",
   "metadata": {},
   "source": [
    "## Fit Harmonic Function to Original Data\n",
    "\n",
    "Finally, we merge the two datasets and superimpose the fitted harmonic function on the raw sigma nought data. "
   ]
  },
  {
   "cell_type": "code",
   "execution_count": null,
   "id": "11",
   "metadata": {},
   "outputs": [],
   "source": [
    "xr.merge([y.rename(\"pred\"), sig0_dc]).squeeze().assign_coords(\n",
    "    x=range(len(sig0_dc.x)), y=range(len(sig0_dc.y))\n",
    ").hvplot(x=\"time\")"
   ]
  },
  {
   "cell_type": "markdown",
   "id": "12",
   "metadata": {},
   "source": [
    "Calculating of harmonic parameters can be selected during flood mapping by setting the `parameter` to `True`. "
   ]
  },
  {
   "cell_type": "code",
   "execution_count": null,
   "id": "13",
   "metadata": {},
   "outputs": [],
   "source": [
    "flood.decision(bbox=bounding_box, datetime=time_range, dynamic=True)"
   ]
  },
  {
   "cell_type": "markdown",
   "id": "14",
   "metadata": {},
   "source": [
    "This setting theoretically frees the user from the need for a precomputed harmonic parameters dataset, thereby only requiring sentinel-1 sigma nought and PLIA datasets as static inputs. Do mind, however, that calculating harmonic parameters can be a computationally expensive operation."
   ]
  }
 ],
 "metadata": {
  "kernelspec": {
   "display_name": "dask-flood-mapper-z0eq0g_n",
   "language": "python",
   "name": "python3"
  },
  "language_info": {
   "codemirror_mode": {
    "name": "ipython",
    "version": 3
   },
   "file_extension": ".py",
   "mimetype": "text/x-python",
   "name": "python",
   "nbconvert_exporter": "python",
   "pygments_lexer": "ipython3",
   "version": "3.10.12"
  }
 },
 "nbformat": 4,
 "nbformat_minor": 5
}
